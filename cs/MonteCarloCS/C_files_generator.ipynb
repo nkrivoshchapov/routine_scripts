{
 "cells": [
  {
   "cell_type": "code",
   "execution_count": null,
   "metadata": {},
   "outputs": [],
   "source": [
    "# EVERYTHING FOR INITIALIZATION\n",
    "import time\n",
    "%run cppgen.py"
   ]
  },
  {
   "cell_type": "code",
   "execution_count": null,
   "metadata": {},
   "outputs": [],
   "source": [
    "# CREATE OBJECTS FROM SMILES\n",
    "mol_without_Hs = Chem.MolFromSmiles(\"CC(CC1=CC=CC=C1)NC\")\n",
    "mymol = Chem.AddHs(mol_without_Hs)\n",
    "mystructure = struc(\"molname\",mymol)"
   ]
  },
  {
   "cell_type": "code",
   "execution_count": null,
   "metadata": {},
   "outputs": [],
   "source": [
    "# VIEW IN GaussView\n",
    "Chem.AllChem.EmbedMolecule(mymol)\n",
    "gv(mymol)"
   ]
  },
  {
   "cell_type": "code",
   "execution_count": null,
   "metadata": {
    "scrolled": false
   },
   "outputs": [],
   "source": [
    "# ALL NUMBERING OF ATOMS IS AS USUAL - FROM 1\n",
    "# ADD CONSTRAINTS ON BONDS AND POLYHEDRA\n",
    "mystructure.addhbond([5,6], polycheck=False)\n",
    "mystructure.autopoly(5)\n",
    "\n",
    "# GO OVER ALL STEREOCONFIGURATIONS OF GIVEN ATOMS\n",
    "mollist = diastereo(mymol, [], mystructure)\n",
    "for item in mollist:\n",
    "    item.cppgen()\n",
    "    gv(item.mol)\n",
    "    time.sleep(2)"
   ]
  },
  {
   "cell_type": "code",
   "execution_count": null,
   "metadata": {},
   "outputs": [],
   "source": [
    "# IN CASE WHEN STARTING GEOMETRY IS GIVEN IN MOL-FILE\n",
    "atomssubs = [[\"H \", \"U \"],[\"O \", \"Os\"],[\"N \",\"Nb\"],[\"C \",\"Cf\"]]\n",
    "molfile = 'start_geom.sdf'\n",
    "lines = open(molfile,\"r\").readlines()\n",
    "for i in range(len(lines)):\n",
    "    for item in atomssubs:\n",
    "        lines[i]=lines[i].replace(item[0],item[1])\n",
    "file = open(\"temp.sdf\",\"w\")\n",
    "file.write(\"\".join(lines))\n",
    "file.close()\n",
    "\n",
    "stringWithMolData=open(\"temp.sdf\",'r').read()\n",
    "mymol = Chem.MolFromMolBlock(stringWithMolData,sanitize=False,strictParsing=False)\n",
    "mystructure = struc(\"molname\",mymol)\n",
    "mystructure.setchangelist(atomssubs)\n",
    "mystructure.addhbond([1,2],polycheck=False)\n",
    "mystructure.autopoly(3)\n",
    "gv(mymol)\n",
    "mystructure.cppgen()"
   ]
  }
 ],
 "metadata": {
  "kernelspec": {
   "display_name": "Python 3",
   "language": "python",
   "name": "python3"
  },
  "language_info": {
   "codemirror_mode": {
    "name": "ipython",
    "version": 3
   },
   "file_extension": ".py",
   "mimetype": "text/x-python",
   "name": "python",
   "nbconvert_exporter": "python",
   "pygments_lexer": "ipython3",
   "version": "3.8.3"
  }
 },
 "nbformat": 4,
 "nbformat_minor": 2
}
