{
 "cells": [
  {
   "cell_type": "code",
   "execution_count": 8,
   "metadata": {},
   "outputs": [],
   "source": [
    "# EVERYTHING FOR INITIALIZATION\n",
    "import time\n",
    "%run cppgen.py"
   ]
  },
  {
   "cell_type": "code",
   "execution_count": 2,
   "metadata": {},
   "outputs": [],
   "source": [
    "# CREATE OBJECTS FROM SMILES\n",
    "mol_without_Hs = Chem.MolFromSmiles(\"CC(CC1=CC=CC=C1)NC\")\n",
    "mymol = Chem.AddHs(mol_without_Hs)\n",
    "mystructure = Structure(\"molname\",mymol)"
   ]
  },
  {
   "cell_type": "code",
   "execution_count": 3,
   "metadata": {},
   "outputs": [],
   "source": [
    "# VIEW IN GaussView\n",
    "Chem.AllChem.EmbedMolecule(mymol)\n",
    "gv(mymol)"
   ]
  },
  {
   "cell_type": "code",
   "execution_count": null,
   "metadata": {
    "scrolled": false
   },
   "outputs": [],
   "source": [
    "# ALL NUMBERING OF ATOMS IS AS USUAL - FROM 1\n",
    "# ADD CONSTRAINTS ON BONDS AND POLYHEDRA\n",
    "mystructure.addhbond([5,6], polycheck=False)\n",
    "mystructure.autopoly(5)\n",
    "\n",
    "# GO OVER ALL STEREOCONFIGURATIONS OF GIVEN ATOMS\n",
    "mollist = diastereo(mymol, [], mystructure)\n",
    "for item in mollist:\n",
    "    item.cppgen()\n",
    "    gv(item.mol)\n",
    "    time.sleep(2)"
   ]
  },
  {
   "cell_type": "code",
   "execution_count": null,
   "metadata": {},
   "outputs": [],
   "source": [
    "# IN CASE WHEN STARTING GEOMETRY IS GIVEN IN MOL-FILE\n",
    "atomssubs = [[\"H \", \"U \"],[\"O \", \"Os\"],[\"N \",\"Nb\"],[\"C \",\"Cf\"]]\n",
    "molfile = 'start_geom.sdf'\n",
    "lines = open(molfile,\"r\").readlines()\n",
    "for i in range(len(lines)):\n",
    "    for item in atomssubs:\n",
    "        lines[i]=lines[i].replace(item[0],item[1])\n",
    "file = open(\"temp.sdf\",\"w\")\n",
    "file.write(\"\".join(lines))\n",
    "file.close()\n",
    "\n",
    "stringWithMolData=open(\"temp.sdf\",'r').read()\n",
    "mymol = Chem.MolFromMolBlock(stringWithMolData,sanitize=False,strictParsing=False)\n",
    "mystructure = Structure(\"molname\",mymol)\n",
    "mystructure.setchangelist(atomssubs)\n",
    "mystructure.addhbond([1,2],polycheck=False)\n",
    "mystructure.autopoly(3)\n",
    "gv(mymol)\n",
    "mystructure.cppgen()"
   ]
  },
  {
   "cell_type": "markdown",
   "metadata": {},
   "source": [
    "## ETKDG confsearch\n",
    "### Just one structure"
   ]
  },
  {
   "cell_type": "code",
   "execution_count": 24,
   "metadata": {},
   "outputs": [],
   "source": [
    "NAME = 'HydramineMonoimineOr1'\n",
    "SMILES = 'CC([C@](C(OC)=O)(C)CC/C(C)=N\\O)=O'\n",
    "\n",
    "for i in range(100):\n",
    "    mol_without_Hs = Chem.MolFromSmiles(SMILES)\n",
    "    mymol = Chem.AddHs(mol_without_Hs)\n",
    "    Chem.AllChem.EmbedMolecule(mymol)\n",
    "    with open(NAME + \"_%d.xyz\" % i,\"w\") as f:\n",
    "        f.write(Chem.MolToXYZBlock(mymol))"
   ]
  },
  {
   "cell_type": "markdown",
   "metadata": {},
   "source": [
    "### With diastereomer generation"
   ]
  },
  {
   "cell_type": "code",
   "execution_count": 77,
   "metadata": {},
   "outputs": [],
   "source": [
    "NAME = 'FuranhydrAzaozonide'\n",
    "SMILES = 'C[C@@]1(OO2)N(NC(C3=CC=CO3)=O)[C@]2([C@@](CC1)(C(OC)=O)C)C'"
   ]
  },
  {
   "cell_type": "code",
   "execution_count": 78,
   "metadata": {},
   "outputs": [],
   "source": [
    "# CHECK HOW ATOMS ARE NUMERATED\n",
    "startmol_noHs = Chem.MolFromSmiles(SMILES)\n",
    "startmol = Chem.AddHs(startmol_noHs)\n",
    "Chem.AllChem.EmbedMolecule(startmol)\n",
    "gv(startmol)"
   ]
  },
  {
   "cell_type": "code",
   "execution_count": 79,
   "metadata": {},
   "outputs": [],
   "source": [
    "DIASTEREO_LIST = [15] # Usual numeration starting from 1\n",
    "\n",
    "startmol_noHs = Chem.MolFromSmiles(SMILES)\n",
    "startmol = Chem.AddHs(startmol_noHs)\n",
    "mystructure = Structure(NAME, startmol, make_copy=False)\n",
    "for i in range(20):\n",
    "    structlist = diastereo(startmol, DIASTEREO_LIST, mystructure)\n",
    "    for struct in structlist:\n",
    "        with open(struct.name + \"_%d.xyz\" % i, \"w\") as f:\n",
    "            f.write(Chem.MolToXYZBlock(struct.mol))"
   ]
  },
  {
   "cell_type": "code",
   "execution_count": null,
   "metadata": {},
   "outputs": [],
   "source": []
  }
 ],
 "metadata": {
  "kernelspec": {
   "display_name": "Python 3",
   "language": "python",
   "name": "python3"
  },
  "language_info": {
   "codemirror_mode": {
    "name": "ipython",
    "version": 3
   },
   "file_extension": ".py",
   "mimetype": "text/x-python",
   "name": "python",
   "nbconvert_exporter": "python",
   "pygments_lexer": "ipython3",
   "version": "3.8.3"
  }
 },
 "nbformat": 4,
 "nbformat_minor": 2
}
